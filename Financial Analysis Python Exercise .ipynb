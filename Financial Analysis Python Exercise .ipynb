{
 "cells": [
  {
   "cell_type": "markdown",
   "metadata": {},
   "source": [
    "### Analysis of Historical Fundamentals - Castings Group plc. \n",
    "\n",
    "This report is structured as follows:\n",
    "\n",
    "- Imported Packages\n",
    "- Functions for financial calculations \n",
    "- Loading in data & ratio's\n",
    "- Visualizations of Fundamentals\n"
   ]
  },
  {
   "cell_type": "markdown",
   "metadata": {},
   "source": [
    "### Ratio's and Metrics Covered:\n",
    "\n",
    "- [Return on Invested Capital](#Return_on_Invested_Capital)\n",
    "- [Return on Assets](#Return_on_Assets)\n",
    "- [Return on Equity](#Return_on_Equity)\n",
    "- [Net Margin](#Net_Margin)\n",
    "- [Gross Margin](#Gross_Margin)\n",
    "- [Sales Growth](#Sales_Growth)\n",
    "- [Net Debt](#Net_debt)\n",
    "- [Book Value](#Book_Value)\n",
    "- [FCF (Free Cash Flow)](#FCF) \n",
    "- [Cash returned to investors (Dividends per share)](#Dividends_per_share)\n",
    "\n",
    "#### ** Values given in £'000s"
   ]
  },
  {
   "cell_type": "markdown",
   "metadata": {},
   "source": [
    "### Packages used"
   ]
  },
  {
   "cell_type": "code",
   "execution_count": 91,
   "metadata": {},
   "outputs": [],
   "source": [
    "import pandas as pd\n",
    "import numpy as np\n",
    "import matplotlib as plt\n",
    "import os\n",
    "\n",
    "from matplotlib import pyplot as plt\n",
    "plt.style.use('ggplot')"
   ]
  },
  {
   "cell_type": "markdown",
   "metadata": {},
   "source": [
    "### Fundamentals"
   ]
  },
  {
   "cell_type": "code",
   "execution_count": 92,
   "metadata": {},
   "outputs": [],
   "source": [
    "def roic(nopat,invested_capital):\n",
    "    roic=(nopat/invested_capital)*100\n",
    "    return(roic)\n",
    "\n",
    "#Invested Capital given by (Assets + Liabilities - Cash)"
   ]
  },
  {
   "cell_type": "code",
   "execution_count": 93,
   "metadata": {},
   "outputs": [],
   "source": [
    "# Return on assets\n",
    "def roa(net_income,total_assets):\n",
    "    roa=(net_income/total_assets)*100\n",
    "    return(roa)"
   ]
  },
  {
   "cell_type": "code",
   "execution_count": 94,
   "metadata": {},
   "outputs": [],
   "source": [
    "#Return on Equity\n",
    "def roe(net_income,shareholders_equity):\n",
    "    roe=(net_income/shareholders_equity)*100\n",
    "    return(roe)\n"
   ]
  },
  {
   "cell_type": "code",
   "execution_count": 95,
   "metadata": {},
   "outputs": [],
   "source": [
    "# Net Margin\n",
    "def net_margin(nopat,revenue):\n",
    "    net_margin=(nopat/revenue)*100\n",
    "    return(net_margin)"
   ]
  },
  {
   "cell_type": "code",
   "execution_count": 96,
   "metadata": {},
   "outputs": [],
   "source": [
    "#Gross Margin \n",
    "def gross_margin(gross_profit,revenue):\n",
    "    gross_margin=(gross_profit/revenue)*100\n",
    "    return(gross_margin)"
   ]
  },
  {
   "cell_type": "code",
   "execution_count": 97,
   "metadata": {},
   "outputs": [],
   "source": [
    "#sales growth - YoY change in sales(revenue) .pct_change()\n",
    "\n",
    "#net_debt = (Short-term debt + Long-term debt (Total Liabilities) - (Cash)\n",
    "#book_value = Total assets - Total Liabilities \n",
    "# Free cash flow = FCF = Net cash from operations – Capex (Capital Expenditure)\n",
    "# Cash Return to shareholders = ' Payout per share in (pence)'\n"
   ]
  },
  {
   "cell_type": "markdown",
   "metadata": {},
   "source": [
    "### Loading in Data and Analysis"
   ]
  },
  {
   "cell_type": "code",
   "execution_count": 98,
   "metadata": {},
   "outputs": [],
   "source": [
    "#Set working directory\n",
    "#os.chdir('/Users/mattcirelli/Desktop/Havelock London/')"
   ]
  },
  {
   "cell_type": "code",
   "execution_count": 99,
   "metadata": {},
   "outputs": [],
   "source": [
    "df = pd.read_excel('/Users/mattcirelli/Desktop/Havelock London/Castings Group Fundamentals.xlsx',index_col='Year')"
   ]
  },
  {
   "cell_type": "code",
   "execution_count": 100,
   "metadata": {},
   "outputs": [],
   "source": [
    "df.index = pd.to_datetime(df.index, format='%Y')"
   ]
  },
  {
   "cell_type": "code",
   "execution_count": 101,
   "metadata": {
    "scrolled": true
   },
   "outputs": [
    {
     "data": {
      "text/html": [
       "<div>\n",
       "<style scoped>\n",
       "    .dataframe tbody tr th:only-of-type {\n",
       "        vertical-align: middle;\n",
       "    }\n",
       "\n",
       "    .dataframe tbody tr th {\n",
       "        vertical-align: top;\n",
       "    }\n",
       "\n",
       "    .dataframe thead th {\n",
       "        text-align: right;\n",
       "    }\n",
       "</style>\n",
       "<table border=\"1\" class=\"dataframe\">\n",
       "  <thead>\n",
       "    <tr style=\"text-align: right;\">\n",
       "      <th></th>\n",
       "      <th>Revenue</th>\n",
       "      <th>Gross Profit</th>\n",
       "      <th>Profit From Operations(EBITDA)</th>\n",
       "      <th>Profit before income tax(EBIT)</th>\n",
       "      <th>Profit for the year(Net profit)</th>\n",
       "      <th>Total Comprehensive Income(nopat)</th>\n",
       "      <th>Total Assets</th>\n",
       "      <th>Current liabilities</th>\n",
       "      <th>Total liabilities</th>\n",
       "      <th>Invested Capital</th>\n",
       "      <th>Shareholders Equity</th>\n",
       "      <th>operating cash</th>\n",
       "      <th>Net Cash</th>\n",
       "      <th>capex</th>\n",
       "      <th>dividends</th>\n",
       "      <th>Book Values</th>\n",
       "      <th>Payout per share (pence)</th>\n",
       "    </tr>\n",
       "    <tr>\n",
       "      <th>Year</th>\n",
       "      <th></th>\n",
       "      <th></th>\n",
       "      <th></th>\n",
       "      <th></th>\n",
       "      <th></th>\n",
       "      <th></th>\n",
       "      <th></th>\n",
       "      <th></th>\n",
       "      <th></th>\n",
       "      <th></th>\n",
       "      <th></th>\n",
       "      <th></th>\n",
       "      <th></th>\n",
       "      <th></th>\n",
       "      <th></th>\n",
       "      <th></th>\n",
       "      <th></th>\n",
       "    </tr>\n",
       "  </thead>\n",
       "  <tbody>\n",
       "    <tr>\n",
       "      <th>2019-01-01</th>\n",
       "      <td>150236</td>\n",
       "      <td>32107</td>\n",
       "      <td>15197</td>\n",
       "      <td>15325</td>\n",
       "      <td>12285</td>\n",
       "      <td>11010</td>\n",
       "      <td>163934</td>\n",
       "      <td>24222</td>\n",
       "      <td>29545</td>\n",
       "      <td>163934</td>\n",
       "      <td>134389</td>\n",
       "      <td>18236</td>\n",
       "      <td>15637</td>\n",
       "      <td>5300</td>\n",
       "      <td>6327</td>\n",
       "      <td>71438</td>\n",
       "      <td>14.78</td>\n",
       "    </tr>\n",
       "    <tr>\n",
       "      <th>2018-01-01</th>\n",
       "      <td>133276</td>\n",
       "      <td>29602</td>\n",
       "      <td>11944</td>\n",
       "      <td>12077</td>\n",
       "      <td>9689</td>\n",
       "      <td>9798</td>\n",
       "      <td>155367</td>\n",
       "      <td>22242</td>\n",
       "      <td>27225</td>\n",
       "      <td>155367</td>\n",
       "      <td>128142</td>\n",
       "      <td>17417</td>\n",
       "      <td>14338</td>\n",
       "      <td>11200</td>\n",
       "      <td>6095</td>\n",
       "      <td>75448</td>\n",
       "      <td>14.50</td>\n",
       "    </tr>\n",
       "    <tr>\n",
       "      <th>2017-01-01</th>\n",
       "      <td>118822</td>\n",
       "      <td>30188</td>\n",
       "      <td>15678</td>\n",
       "      <td>15915</td>\n",
       "      <td>13004</td>\n",
       "      <td>13282</td>\n",
       "      <td>149919</td>\n",
       "      <td>21721</td>\n",
       "      <td>25775</td>\n",
       "      <td>149919</td>\n",
       "      <td>124144</td>\n",
       "      <td>21531</td>\n",
       "      <td>18325</td>\n",
       "      <td>14200</td>\n",
       "      <td>19072</td>\n",
       "      <td>72762</td>\n",
       "      <td>13.97</td>\n",
       "    </tr>\n",
       "    <tr>\n",
       "      <th>2016-01-01</th>\n",
       "      <td>132448</td>\n",
       "      <td>34017</td>\n",
       "      <td>19490</td>\n",
       "      <td>19676</td>\n",
       "      <td>16187</td>\n",
       "      <td>16477</td>\n",
       "      <td>153109</td>\n",
       "      <td>18789</td>\n",
       "      <td>23176</td>\n",
       "      <td>153109</td>\n",
       "      <td>129933</td>\n",
       "      <td>27773</td>\n",
       "      <td>24736</td>\n",
       "      <td>7200</td>\n",
       "      <td>5873</td>\n",
       "      <td>66948</td>\n",
       "      <td>13.71</td>\n",
       "    </tr>\n",
       "    <tr>\n",
       "      <th>2015-01-01</th>\n",
       "      <td>131270</td>\n",
       "      <td>32118</td>\n",
       "      <td>17410</td>\n",
       "      <td>17547</td>\n",
       "      <td>13875</td>\n",
       "      <td>14114</td>\n",
       "      <td>144055</td>\n",
       "      <td>19938</td>\n",
       "      <td>24726</td>\n",
       "      <td>144055</td>\n",
       "      <td>119329</td>\n",
       "      <td>20359</td>\n",
       "      <td>16051</td>\n",
       "      <td>8200</td>\n",
       "      <td>5694</td>\n",
       "      <td>66572</td>\n",
       "      <td>13.30</td>\n",
       "    </tr>\n",
       "    <tr>\n",
       "      <th>2014-01-01</th>\n",
       "      <td>137466</td>\n",
       "      <td>36042</td>\n",
       "      <td>21649</td>\n",
       "      <td>21833</td>\n",
       "      <td>17258</td>\n",
       "      <td>14261</td>\n",
       "      <td>138871</td>\n",
       "      <td>23691</td>\n",
       "      <td>27962</td>\n",
       "      <td>138871</td>\n",
       "      <td>110909</td>\n",
       "      <td>23901</td>\n",
       "      <td>19213</td>\n",
       "      <td>9700</td>\n",
       "      <td>5450</td>\n",
       "      <td>65195</td>\n",
       "      <td>12.96</td>\n",
       "    </tr>\n",
       "    <tr>\n",
       "      <th>2013-01-01</th>\n",
       "      <td>122215</td>\n",
       "      <td>31736</td>\n",
       "      <td>18851</td>\n",
       "      <td>19157</td>\n",
       "      <td>14786</td>\n",
       "      <td>14651</td>\n",
       "      <td>129792</td>\n",
       "      <td>22636</td>\n",
       "      <td>27694</td>\n",
       "      <td>129792</td>\n",
       "      <td>102098</td>\n",
       "      <td>22466</td>\n",
       "      <td>17826</td>\n",
       "      <td>6900</td>\n",
       "      <td>5157</td>\n",
       "      <td>61676</td>\n",
       "      <td>12.34</td>\n",
       "    </tr>\n",
       "    <tr>\n",
       "      <th>2012-01-01</th>\n",
       "      <td>126271</td>\n",
       "      <td>33613</td>\n",
       "      <td>22937</td>\n",
       "      <td>23093</td>\n",
       "      <td>17591</td>\n",
       "      <td>17267</td>\n",
       "      <td>120027</td>\n",
       "      <td>21846</td>\n",
       "      <td>27423</td>\n",
       "      <td>120027</td>\n",
       "      <td>92604</td>\n",
       "      <td>25453</td>\n",
       "      <td>21448</td>\n",
       "      <td>12600</td>\n",
       "      <td>4778</td>\n",
       "      <td>62226</td>\n",
       "      <td>11.75</td>\n",
       "    </tr>\n",
       "    <tr>\n",
       "      <th>2011-01-01</th>\n",
       "      <td>105368</td>\n",
       "      <td>27842</td>\n",
       "      <td>15343</td>\n",
       "      <td>15501</td>\n",
       "      <td>11652</td>\n",
       "      <td>11243</td>\n",
       "      <td>112421</td>\n",
       "      <td>26659</td>\n",
       "      <td>32306</td>\n",
       "      <td>112421</td>\n",
       "      <td>80115</td>\n",
       "      <td>15191</td>\n",
       "      <td>13707</td>\n",
       "      <td>9860</td>\n",
       "      <td>4363</td>\n",
       "      <td>55889</td>\n",
       "      <td>10.75</td>\n",
       "    </tr>\n",
       "    <tr>\n",
       "      <th>2010-01-01</th>\n",
       "      <td>60649</td>\n",
       "      <td>15126</td>\n",
       "      <td>9665</td>\n",
       "      <td>9804</td>\n",
       "      <td>7638</td>\n",
       "      <td>3921</td>\n",
       "      <td>93761</td>\n",
       "      <td>14671</td>\n",
       "      <td>20526</td>\n",
       "      <td>93761</td>\n",
       "      <td>73235</td>\n",
       "      <td>6443</td>\n",
       "      <td>14718</td>\n",
       "      <td>2653</td>\n",
       "      <td>4363</td>\n",
       "      <td>51596</td>\n",
       "      <td>10.00</td>\n",
       "    </tr>\n",
       "  </tbody>\n",
       "</table>\n",
       "</div>"
      ],
      "text/plain": [
       "            Revenue  Gross Profit  Profit From Operations(EBITDA)  \\\n",
       "Year                                                                \n",
       "2019-01-01   150236         32107                           15197   \n",
       "2018-01-01   133276         29602                           11944   \n",
       "2017-01-01   118822         30188                           15678   \n",
       "2016-01-01   132448         34017                           19490   \n",
       "2015-01-01   131270         32118                           17410   \n",
       "2014-01-01   137466         36042                           21649   \n",
       "2013-01-01   122215         31736                           18851   \n",
       "2012-01-01   126271         33613                           22937   \n",
       "2011-01-01   105368         27842                           15343   \n",
       "2010-01-01    60649         15126                            9665   \n",
       "\n",
       "            Profit before income tax(EBIT)  Profit for the year(Net profit)  \\\n",
       "Year                                                                          \n",
       "2019-01-01                           15325                            12285   \n",
       "2018-01-01                           12077                             9689   \n",
       "2017-01-01                           15915                            13004   \n",
       "2016-01-01                           19676                            16187   \n",
       "2015-01-01                           17547                            13875   \n",
       "2014-01-01                           21833                            17258   \n",
       "2013-01-01                           19157                            14786   \n",
       "2012-01-01                           23093                            17591   \n",
       "2011-01-01                           15501                            11652   \n",
       "2010-01-01                            9804                             7638   \n",
       "\n",
       "            Total Comprehensive Income(nopat)  Total Assets  \\\n",
       "Year                                                          \n",
       "2019-01-01                              11010        163934   \n",
       "2018-01-01                               9798        155367   \n",
       "2017-01-01                              13282        149919   \n",
       "2016-01-01                              16477        153109   \n",
       "2015-01-01                              14114        144055   \n",
       "2014-01-01                              14261        138871   \n",
       "2013-01-01                              14651        129792   \n",
       "2012-01-01                              17267        120027   \n",
       "2011-01-01                              11243        112421   \n",
       "2010-01-01                               3921         93761   \n",
       "\n",
       "            Current liabilities  Total liabilities  Invested Capital  \\\n",
       "Year                                                                   \n",
       "2019-01-01                24222              29545            163934   \n",
       "2018-01-01                22242              27225            155367   \n",
       "2017-01-01                21721              25775            149919   \n",
       "2016-01-01                18789              23176            153109   \n",
       "2015-01-01                19938              24726            144055   \n",
       "2014-01-01                23691              27962            138871   \n",
       "2013-01-01                22636              27694            129792   \n",
       "2012-01-01                21846              27423            120027   \n",
       "2011-01-01                26659              32306            112421   \n",
       "2010-01-01                14671              20526             93761   \n",
       "\n",
       "            Shareholders Equity  operating cash   Net Cash  capex  dividends  \\\n",
       "Year                                                                           \n",
       "2019-01-01               134389            18236     15637   5300       6327   \n",
       "2018-01-01               128142            17417     14338  11200       6095   \n",
       "2017-01-01               124144            21531     18325  14200      19072   \n",
       "2016-01-01               129933            27773     24736   7200       5873   \n",
       "2015-01-01               119329            20359     16051   8200       5694   \n",
       "2014-01-01               110909            23901     19213   9700       5450   \n",
       "2013-01-01               102098            22466     17826   6900       5157   \n",
       "2012-01-01                92604            25453     21448  12600       4778   \n",
       "2011-01-01                80115            15191     13707   9860       4363   \n",
       "2010-01-01                73235             6443     14718   2653       4363   \n",
       "\n",
       "            Book Values   Payout per share (pence)  \n",
       "Year                                                \n",
       "2019-01-01         71438                     14.78  \n",
       "2018-01-01         75448                     14.50  \n",
       "2017-01-01         72762                     13.97  \n",
       "2016-01-01         66948                     13.71  \n",
       "2015-01-01         66572                     13.30  \n",
       "2014-01-01         65195                     12.96  \n",
       "2013-01-01         61676                     12.34  \n",
       "2012-01-01         62226                     11.75  \n",
       "2011-01-01         55889                     10.75  \n",
       "2010-01-01         51596                     10.00  "
      ]
     },
     "execution_count": 101,
     "metadata": {},
     "output_type": "execute_result"
    }
   ],
   "source": [
    "df.head(10)"
   ]
  },
  {
   "cell_type": "code",
   "execution_count": 102,
   "metadata": {
    "scrolled": true
   },
   "outputs": [],
   "source": [
    "# Update terms for correct accounting definitions\n",
    "df['Invested Capital'] = df['Invested Capital'] - df['Net Cash']\n",
    "df.rename(columns={'Book Values':'Book Value'},inplace=True)\n",
    "df['Book Value']=df['Shareholders Equity']"
   ]
  },
  {
   "cell_type": "code",
   "execution_count": 103,
   "metadata": {
    "scrolled": true
   },
   "outputs": [
    {
     "name": "stdout",
     "output_type": "stream",
     "text": [
      "<class 'pandas.core.frame.DataFrame'>\n",
      "DatetimeIndex: 11 entries, 2019-01-01 to 2009-01-01\n",
      "Data columns (total 18 columns):\n",
      "Revenue                              11 non-null int64\n",
      "Gross Profit                         11 non-null int64\n",
      "Profit From Operations(EBITDA)       11 non-null int64\n",
      "Profit before income tax(EBIT)       11 non-null int64\n",
      "Profit for the year(Net profit)      11 non-null int64\n",
      "Total Comprehensive Income(nopat)    11 non-null int64\n",
      "Total Assets                         11 non-null int64\n",
      "Current liabilities                  11 non-null int64\n",
      "Total liabilities                    11 non-null int64\n",
      "Invested Capital                     11 non-null int64\n",
      "Shareholders Equity                  11 non-null int64\n",
      "operating cash                       11 non-null int64\n",
      "Net Cash                             11 non-null int64\n",
      "capex                                11 non-null int64\n",
      "dividends                            11 non-null int64\n",
      "Book Values                          11 non-null int64\n",
      "Payout per share (pence)             11 non-null float64\n",
      "Book Value                           11 non-null int64\n",
      "dtypes: float64(1), int64(17)\n",
      "memory usage: 1.6 KB\n"
     ]
    }
   ],
   "source": [
    "df.info()"
   ]
  },
  {
   "cell_type": "code",
   "execution_count": 104,
   "metadata": {
    "scrolled": true
   },
   "outputs": [
    {
     "data": {
      "text/plain": [
       "Index(['Revenue', 'Gross Profit', 'Profit From Operations(EBITDA)',\n",
       "       'Profit before income tax(EBIT)', 'Profit for the year(Net profit)',\n",
       "       'Total Comprehensive Income(nopat)', 'Total Assets',\n",
       "       'Current liabilities', 'Total liabilities', 'Invested Capital',\n",
       "       'Shareholders Equity', 'operating cash ', 'Net Cash', 'capex',\n",
       "       'dividends', 'Book Values ', 'Payout per share (pence)', 'Book Value'],\n",
       "      dtype='object')"
      ]
     },
     "execution_count": 104,
     "metadata": {},
     "output_type": "execute_result"
    }
   ],
   "source": [
    "df.columns"
   ]
  },
  {
   "cell_type": "code",
   "execution_count": 105,
   "metadata": {},
   "outputs": [],
   "source": [
    "# Analyze 10 Years of data\n",
    "df=df.iloc[:10]"
   ]
  },
  {
   "cell_type": "code",
   "execution_count": 106,
   "metadata": {},
   "outputs": [],
   "source": [
    "#convert intergers to floats\n",
    "for column in df:\n",
    "    df[column] = df[column].astype(float)\n"
   ]
  },
  {
   "cell_type": "markdown",
   "metadata": {},
   "source": [
    "### Visualizations of Fundamentals"
   ]
  },
  {
   "cell_type": "code",
   "execution_count": 107,
   "metadata": {},
   "outputs": [
    {
     "data": {
      "image/png": "[encoded data removed]",
      "text/plain": [
       "<Figure size 432x288 with 1 Axes>"
      ]
     },
     "metadata": {},
     "output_type": "display_data"
    }
   ],
   "source": [
    "# Gross Profit\n",
    "plt.plot(df['Gross Profit'])\n",
    "plt.title('Castings Gross Profit')\n",
    "plt.show()"
   ]
  },
  {
   "cell_type": "markdown",
   "metadata": {},
   "source": [
    "<a id='Return_on_Invested_Capital'></a>\n",
    "#### Return on Invested Capital"
   ]
  },
  {
   "cell_type": "code",
   "execution_count": 108,
   "metadata": {},
   "outputs": [
    {
     "data": {
      "text/plain": [
       "Year\n",
       "2019-01-01     7.424290\n",
       "2018-01-01     6.947507\n",
       "2017-01-01    10.093165\n",
       "2016-01-01    12.835254\n",
       "2015-01-01    11.026218\n",
       "2014-01-01    11.918133\n",
       "2013-01-01    13.085222\n",
       "2012-01-01    17.515901\n",
       "2011-01-01    11.389469\n",
       "2010-01-01     4.960591\n",
       "Name: roic, dtype: float64"
      ]
     },
     "execution_count": 108,
     "metadata": {},
     "output_type": "execute_result"
    }
   ],
   "source": [
    "#Calculate return on invested capital\n",
    "df['roic']=roic(df['Total Comprehensive Income(nopat)'],df['Invested Capital'])\n",
    "df.roic"
   ]
  },
  {
   "cell_type": "code",
   "execution_count": 109,
   "metadata": {},
   "outputs": [
    {
     "data": {
      "text/plain": [
       "Text(0.5,1,'Return on Invested Capital ')"
      ]
     },
     "execution_count": 109,
     "metadata": {},
     "output_type": "execute_result"
    },
    {
     "data": {
      "image/png": "[encoded data removed]",
      "text/plain": [
       "<Figure size 432x288 with 1 Axes>"
      ]
     },
     "metadata": {},
     "output_type": "display_data"
    }
   ],
   "source": [
    "df.roic.plot()\n",
    "plt.title('Return on Invested Capital ')"
   ]
  },
  {
   "cell_type": "markdown",
   "metadata": {},
   "source": [
    "<a id='Return_on_Assets'></a>\n",
    "#### Return on Assets"
   ]
  },
  {
   "cell_type": "code",
   "execution_count": 110,
   "metadata": {},
   "outputs": [
    {
     "data": {
      "text/plain": [
       "Year\n",
       "2019-01-01     7.493869\n",
       "2018-01-01     6.236202\n",
       "2017-01-01     8.674017\n",
       "2016-01-01    10.572207\n",
       "2015-01-01     9.631738\n",
       "2014-01-01    12.427361\n",
       "2013-01-01    11.392073\n",
       "2012-01-01    14.655869\n",
       "2011-01-01    10.364612\n",
       "2010-01-01     8.146244\n",
       "Name: roa, dtype: float64"
      ]
     },
     "execution_count": 110,
     "metadata": {},
     "output_type": "execute_result"
    }
   ],
   "source": [
    "# Calculate Return on assets\n",
    "df['roa']=roa(df['Profit for the year(Net profit)'],df['Total Assets'])\n",
    "df.roa"
   ]
  },
  {
   "cell_type": "code",
   "execution_count": 111,
   "metadata": {},
   "outputs": [
    {
     "data": {
      "text/plain": [
       "<matplotlib.axes._subplots.AxesSubplot at 0x126975710>"
      ]
     },
     "execution_count": 111,
     "metadata": {},
     "output_type": "execute_result"
    },
    {
     "data": {
      "image/png": "[encoded data removed]",
      "text/plain": [
       "<Figure size 432x288 with 1 Axes>"
      ]
     },
     "metadata": {},
     "output_type": "display_data"
    }
   ],
   "source": [
    "df.roa.plot()"
   ]
  },
  {
   "cell_type": "markdown",
   "metadata": {},
   "source": [
    "<a id='Return_on_Equity'></a>\n",
    "#### Return on Equity"
   ]
  },
  {
   "cell_type": "code",
   "execution_count": 112,
   "metadata": {},
   "outputs": [
    {
     "data": {
      "text/plain": [
       "Year\n",
       "2019-01-01     9.141373\n",
       "2018-01-01     7.561143\n",
       "2017-01-01    10.474932\n",
       "2016-01-01    12.457959\n",
       "2015-01-01    11.627517\n",
       "2014-01-01    15.560505\n",
       "2013-01-01    14.482164\n",
       "2012-01-01    18.995940\n",
       "2011-01-01    14.544093\n",
       "2010-01-01    10.429439\n",
       "Name: roe, dtype: float64"
      ]
     },
     "execution_count": 112,
     "metadata": {},
     "output_type": "execute_result"
    }
   ],
   "source": [
    "# Calculate Return on Equity\n",
    "df['roe']=roe(df['Profit for the year(Net profit)'],df['Shareholders Equity'])\n",
    "df.roe"
   ]
  },
  {
   "cell_type": "code",
   "execution_count": 113,
   "metadata": {},
   "outputs": [
    {
     "data": {
      "text/plain": [
       "<matplotlib.axes._subplots.AxesSubplot at 0x126aaa588>"
      ]
     },
     "execution_count": 113,
     "metadata": {},
     "output_type": "execute_result"
    },
    {
     "data": {
      "image/png": "[encoded data removed]",
      "text/plain": [
       "<Figure size 432x288 with 1 Axes>"
      ]
     },
     "metadata": {},
     "output_type": "display_data"
    }
   ],
   "source": [
    "df.roe.plot(title='Return on Equity')"
   ]
  },
  {
   "cell_type": "markdown",
   "metadata": {},
   "source": [
    "<a id='Net_Margin'></a>\n",
    "#### Net Margin"
   ]
  },
  {
   "cell_type": "code",
   "execution_count": 114,
   "metadata": {},
   "outputs": [
    {
     "name": "stdout",
     "output_type": "stream",
     "text": [
      "Year\n",
      "2019-01-01     7.328470\n",
      "2018-01-01     7.351661\n",
      "2017-01-01    11.178065\n",
      "2016-01-01    12.440354\n",
      "2015-01-01    10.751885\n",
      "2014-01-01    10.374202\n",
      "2013-01-01    11.987890\n",
      "2012-01-01    13.674557\n",
      "2011-01-01    10.670222\n",
      "2010-01-01     6.465069\n",
      "Name: net_margin, dtype: float64\n"
     ]
    },
    {
     "data": {
      "text/plain": [
       "<matplotlib.axes._subplots.AxesSubplot at 0x126a6a710>"
      ]
     },
     "execution_count": 114,
     "metadata": {},
     "output_type": "execute_result"
    },
    {
     "data": {
      "image/png": "[encoded data removed]",
      "text/plain": [
       "<Figure size 432x288 with 1 Axes>"
      ]
     },
     "metadata": {},
     "output_type": "display_data"
    }
   ],
   "source": [
    "# Calculate Net Margin\n",
    "df['net_margin']=net_margin(df['Total Comprehensive Income(nopat)'],df['Revenue'])\n",
    "print(df.net_margin)\n",
    "df.net_margin.plot()\n"
   ]
  },
  {
   "cell_type": "markdown",
   "metadata": {},
   "source": [
    "<a id='Gross_Margin'></a>\n",
    "#### Gross Margin"
   ]
  },
  {
   "cell_type": "code",
   "execution_count": 115,
   "metadata": {},
   "outputs": [
    {
     "name": "stdout",
     "output_type": "stream",
     "text": [
      "Year\n",
      "2019-01-01    21.371043\n",
      "2018-01-01    22.211051\n",
      "2017-01-01    25.406070\n",
      "2016-01-01    25.683287\n",
      "2015-01-01    24.467129\n",
      "2014-01-01    26.218847\n",
      "2013-01-01    25.967353\n",
      "2012-01-01    26.619731\n",
      "2011-01-01    26.423582\n",
      "2010-01-01    24.940230\n",
      "Name: gross_margin, dtype: float64\n"
     ]
    }
   ],
   "source": [
    "# Calculate Gross Margin\n",
    "df['gross_margin']=gross_margin(df['Gross Profit'],df['Revenue'])\n",
    "print(df.gross_margin)\n"
   ]
  },
  {
   "cell_type": "code",
   "execution_count": 116,
   "metadata": {},
   "outputs": [
    {
     "data": {
      "text/plain": [
       "<matplotlib.axes._subplots.AxesSubplot at 0x126b905f8>"
      ]
     },
     "execution_count": 116,
     "metadata": {},
     "output_type": "execute_result"
    },
    {
     "data": {
      "image/png": "[encoded data removed]",
      "text/plain": [
       "<Figure size 432x288 with 1 Axes>"
      ]
     },
     "metadata": {},
     "output_type": "display_data"
    }
   ],
   "source": [
    "df.gross_margin.plot(title='Gross Margin')\n"
   ]
  },
  {
   "cell_type": "markdown",
   "metadata": {},
   "source": [
    "<a id='Sales_Growth'></a>\n",
    "#### Sales Growth"
   ]
  },
  {
   "cell_type": "code",
   "execution_count": 117,
   "metadata": {
    "scrolled": true
   },
   "outputs": [
    {
     "name": "stdout",
     "output_type": "stream",
     "text": [
      "Year\n",
      "2019-01-01    12.725472\n",
      "2018-01-01    12.164414\n",
      "2017-01-01   -10.287811\n",
      "2016-01-01     0.897387\n",
      "2015-01-01    -4.507296\n",
      "2014-01-01    12.478828\n",
      "2013-01-01    -3.212139\n",
      "2012-01-01    19.838091\n",
      "2011-01-01    73.734109\n",
      "2010-01-01          NaN\n",
      "Name: sales_growth, dtype: float64\n"
     ]
    }
   ],
   "source": [
    "# Calculate Sales Growth, through percentage change with previous year \n",
    "df['sales_growth']=(df['Revenue'].pct_change(-1))*100\n",
    "print(df.sales_growth)\n"
   ]
  },
  {
   "cell_type": "code",
   "execution_count": 118,
   "metadata": {},
   "outputs": [
    {
     "data": {
      "text/plain": [
       "<matplotlib.axes._subplots.AxesSubplot at 0x126a43a20>"
      ]
     },
     "execution_count": 118,
     "metadata": {},
     "output_type": "execute_result"
    },
    {
     "data": {
      "image/png": "[encoded data removed]",
      "text/plain": [
       "<Figure size 432x288 with 1 Axes>"
      ]
     },
     "metadata": {},
     "output_type": "display_data"
    }
   ],
   "source": [
    "df.sales_growth.plot(title = 'Year on Year Sales Growth %')"
   ]
  },
  {
   "cell_type": "markdown",
   "metadata": {},
   "source": [
    "<a id='Net_debt'></a>\n",
    "#### Net Debt"
   ]
  },
  {
   "cell_type": "code",
   "execution_count": 119,
   "metadata": {
    "scrolled": true
   },
   "outputs": [
    {
     "name": "stdout",
     "output_type": "stream",
     "text": [
      "Year\n",
      "2019-01-01    13908.0\n",
      "2018-01-01    12887.0\n",
      "2017-01-01     7450.0\n",
      "2016-01-01    -1560.0\n",
      "2015-01-01     8675.0\n",
      "2014-01-01     8749.0\n",
      "2013-01-01     9868.0\n",
      "2012-01-01     5975.0\n",
      "2011-01-01    18599.0\n",
      "2010-01-01     5808.0\n",
      "Name: net_debt, dtype: float64\n"
     ]
    }
   ],
   "source": [
    "# Net Debt calculated through adding liabilites and subtracting cash\n",
    "df['net_debt']= df['Total liabilities']-df['Net Cash']\n",
    "print(df.net_debt)\n"
   ]
  },
  {
   "cell_type": "code",
   "execution_count": 120,
   "metadata": {},
   "outputs": [
    {
     "data": {
      "text/plain": [
       "<matplotlib.axes._subplots.AxesSubplot at 0x126f2a828>"
      ]
     },
     "execution_count": 120,
     "metadata": {},
     "output_type": "execute_result"
    },
    {
     "data": {
      "image/png": "[encoded data removed]",
      "text/plain": [
       "<Figure size 432x288 with 1 Axes>"
      ]
     },
     "metadata": {},
     "output_type": "display_data"
    }
   ],
   "source": [
    "df.net_debt.plot(title='Net Debt')"
   ]
  },
  {
   "cell_type": "markdown",
   "metadata": {},
   "source": [
    "<a id='FCF'></a>\n",
    "#### Free Cash Flow"
   ]
  },
  {
   "cell_type": "code",
   "execution_count": 121,
   "metadata": {},
   "outputs": [],
   "source": [
    "#Free Cash flow = Net cash flow - capital expenditure\n",
    "df['FCF']= df['Net Cash']-df['capex']\n"
   ]
  },
  {
   "cell_type": "code",
   "execution_count": 122,
   "metadata": {
    "scrolled": true
   },
   "outputs": [
    {
     "data": {
      "text/plain": [
       "<matplotlib.axes._subplots.AxesSubplot at 0x1270638d0>"
      ]
     },
     "execution_count": 122,
     "metadata": {},
     "output_type": "execute_result"
    },
    {
     "data": {
      "image/png": "[encoded data removed]",
      "text/plain": [
       "<Figure size 432x288 with 1 Axes>"
      ]
     },
     "metadata": {},
     "output_type": "display_data"
    }
   ],
   "source": [
    "df.FCF.plot(title='Free Cash Flow')"
   ]
  },
  {
   "cell_type": "code",
   "execution_count": 123,
   "metadata": {},
   "outputs": [
    {
     "name": "stdout",
     "output_type": "stream",
     "text": [
      "Year\n",
      "2019-01-01     7.920756\n",
      "2018-01-01     6.614200\n",
      "2017-01-01     9.058363\n",
      "2016-01-01    11.161471\n",
      "2015-01-01    10.396312\n",
      "2014-01-01    13.086739\n",
      "2013-01-01    12.164256\n",
      "2012-01-01    15.661580\n",
      "2011-01-01    10.710510\n",
      "2010-01-01     8.578403\n",
      "Name: roce, dtype: float64\n"
     ]
    },
    {
     "data": {
      "text/plain": [
       "Text(0.5,1,'ROCE')"
      ]
     },
     "execution_count": 123,
     "metadata": {},
     "output_type": "execute_result"
    },
    {
     "data": {
      "image/png": "[encoded data removed]",
      "text/plain": [
       "<Figure size 432x288 with 1 Axes>"
      ]
     },
     "metadata": {},
     "output_type": "display_data"
    }
   ],
   "source": [
    "# Return on Capital Employed\n",
    "df['roce']= roa(df['Profit before income tax(EBIT)'],(df['Total Assets']+ df['Total liabilities']))\n",
    "print(df.roce)\n",
    "df.roce.plot()\n",
    "plt.title('ROCE')"
   ]
  },
  {
   "cell_type": "markdown",
   "metadata": {},
   "source": [
    "<a id='Book_Value'></a>\n",
    "#### Book Value"
   ]
  },
  {
   "cell_type": "code",
   "execution_count": 124,
   "metadata": {},
   "outputs": [
    {
     "data": {
      "text/plain": [
       "Text(0.5,1,'Book Value')"
      ]
     },
     "execution_count": 124,
     "metadata": {},
     "output_type": "execute_result"
    },
    {
     "data": {
      "image/png": "[encoded data removed]",
      "text/plain": [
       "<Figure size 432x288 with 1 Axes>"
      ]
     },
     "metadata": {},
     "output_type": "display_data"
    }
   ],
   "source": [
    "# Net Book value overtime\n",
    "df['Book Value'].plot()\n",
    "plt.title('Book Value')"
   ]
  },
  {
   "cell_type": "markdown",
   "metadata": {},
   "source": [
    "<a id='Dividends_per_share'></a>\n",
    "#### Cash Return to Shareholders"
   ]
  },
  {
   "cell_type": "code",
   "execution_count": 125,
   "metadata": {
    "scrolled": true
   },
   "outputs": [
    {
     "data": {
      "text/plain": [
       "Text(0.5,1,'Cash Returned to Shareholders')"
      ]
     },
     "execution_count": 125,
     "metadata": {},
     "output_type": "execute_result"
    },
    {
     "data": {
      "image/png": "[encoded data removed]",
      "text/plain": [
       "<Figure size 432x288 with 1 Axes>"
      ]
     },
     "metadata": {},
     "output_type": "display_data"
    }
   ],
   "source": [
    "#payout per share\n",
    "df['Payout per share (pence)'].plot()\n",
    "plt.title('Cash Returned to Shareholders')"
   ]
  }
 ],
 "metadata": {
  "kernelspec": {
   "display_name": "Python 3",
   "language": "python",
   "name": "python3"
  },
  "language_info": {
   "codemirror_mode": {
    "name": "ipython",
    "version": 3
   },
   "file_extension": ".py",
   "mimetype": "text/x-python",
   "name": "python",
   "nbconvert_exporter": "python",
   "pygments_lexer": "ipython3",
   "version": "3.6.5"
  }
 },
 "nbformat": 4,
 "nbformat_minor": 2
}
