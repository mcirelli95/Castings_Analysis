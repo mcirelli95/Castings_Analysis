{
 "cells": [
  {
   "cell_type": "markdown",
   "metadata": {},
   "source": [
    "### Analysis of Historical Fundamentals - Castings Group plc. \n",
    "\n",
    "The process of this project is as follows:\n",
    "\n",
    "- Imported Packages\n",
    "- Functions of financial calculations\n",
    "- Loading in data & ratio's\n",
    "- Visualizations of Fundamentals\n"
   ]
  },
  {
   "cell_type": "markdown",
   "metadata": {},
   "source": [
    "### Ratio's Covered:\n",
    "\n",
    "- Return on Invested Capital\n",
    "- Return on Assets\n",
    "- Return on Equity\n",
    "- Net Margin\n",
    "- Gross Margin \n",
    "- Sales Growth\n",
    "- Net Debt\n",
    "- Book Value\n",
    "- FCF (Free Cash Flow) \n",
    "- Cash returned to investors \n",
    "\n",
    "#### ** Values given in £'000s"
   ]
  },
  {
   "cell_type": "markdown",
   "metadata": {},
   "source": [
    "### Packages used"
   ]
  },
  {
   "cell_type": "code",
   "execution_count": 1,
   "metadata": {},
   "outputs": [],
   "source": [
    "import pandas as pd\n",
    "import numpy as np\n",
    "import matplotlib as plt\n",
    "import os\n",
    "\n",
    "from matplotlib import pyplot as plt\n",
    "plt.style.use('ggplot')"
   ]
  },
  {
   "cell_type": "markdown",
   "metadata": {},
   "source": [
    "### Fundamentals"
   ]
  },
  {
   "cell_type": "code",
   "execution_count": 2,
   "metadata": {},
   "outputs": [
    {
     "data": {
      "text/plain": [
       "50.0"
      ]
     },
     "execution_count": 2,
     "metadata": {},
     "output_type": "execute_result"
    }
   ],
   "source": [
    "def roic(nopat,invested_capital):\n",
    "    roic=(nopat/invested_capital)*100\n",
    "    return(roic)\n",
    "    \n",
    "roic(1,2)"
   ]
  },
  {
   "cell_type": "code",
   "execution_count": 3,
   "metadata": {},
   "outputs": [],
   "source": [
    "# Return on assets\n",
    "def roa(net_income,total_assets):\n",
    "    roa=(net_income/total_assets)*100\n",
    "    return(roa)"
   ]
  },
  {
   "cell_type": "code",
   "execution_count": 4,
   "metadata": {},
   "outputs": [],
   "source": [
    "#Return on Equity\n",
    "def roe(net_income,shareholders_equity):\n",
    "    roe=(net_income/shareholders_equity)*100\n",
    "    return(roe)\n"
   ]
  },
  {
   "cell_type": "code",
   "execution_count": 5,
   "metadata": {},
   "outputs": [],
   "source": [
    "# Net Margin\n",
    "def net_margin(nopat,revenue):\n",
    "    net_margin=(nopat/revenue)*100\n",
    "    return(net_margin)"
   ]
  },
  {
   "cell_type": "code",
   "execution_count": 6,
   "metadata": {},
   "outputs": [],
   "source": [
    "#Gross Margin \n",
    "def gross_margin(gross_profit,revenue):\n",
    "    gross_margin=(gross_profit/revenue)*100\n",
    "    return(gross_margin)"
   ]
  },
  {
   "cell_type": "code",
   "execution_count": 7,
   "metadata": {},
   "outputs": [],
   "source": [
    "#sales growth - YoY change in sales(revenue) .pct_change()\n",
    "\n",
    "#net_debt = (Short-term debt + Long-term debt) - (Cash)\n",
    "#book_value = \n",
    "# Free cash flow = FCF = Net cash from operations – Capex (Capital Expenditure)\n",
    "# Cash Return to shareholders = ' Payout per share in (pence)'\n"
   ]
  },
  {
   "cell_type": "markdown",
   "metadata": {},
   "source": [
    "### Loading in Data and Analysis"
   ]
  },
  {
   "cell_type": "code",
   "execution_count": 8,
   "metadata": {},
   "outputs": [],
   "source": [
    "#Set working directory\n",
    "#os.chdir('/Users/mattcirelli/Desktop/Havelock London/')"
   ]
  },
  {
   "cell_type": "code",
   "execution_count": 9,
   "metadata": {},
   "outputs": [],
   "source": [
    "df = pd.read_excel('/Users/mattcirelli/Desktop/Havelock London/Castings Group Fundamentals.xlsx',index_col='Year')"
   ]
  },
  {
   "cell_type": "code",
   "execution_count": 10,
   "metadata": {},
   "outputs": [],
   "source": [
    "df.index = pd.to_datetime(df.index, format='%Y')"
   ]
  },
  {
   "cell_type": "code",
   "execution_count": 25,
   "metadata": {
    "scrolled": true
   },
   "outputs": [
    {
     "data": {
      "text/html": [
       "<div>\n",
       "<style scoped>\n",
       "    .dataframe tbody tr th:only-of-type {\n",
       "        vertical-align: middle;\n",
       "    }\n",
       "\n",
       "    .dataframe tbody tr th {\n",
       "        vertical-align: top;\n",
       "    }\n",
       "\n",
       "    .dataframe thead th {\n",
       "        text-align: right;\n",
       "    }\n",
       "</style>\n",
       "<table border=\"1\" class=\"dataframe\">\n",
       "  <thead>\n",
       "    <tr style=\"text-align: right;\">\n",
       "      <th></th>\n",
       "      <th>Revenue</th>\n",
       "      <th>Gross Profit</th>\n",
       "      <th>Profit From Operations(EBITDA)</th>\n",
       "      <th>Profit before income tax(EBIT)</th>\n",
       "      <th>Profit for the year(Net profit)</th>\n",
       "      <th>Total Comprehensive Income(nopat)</th>\n",
       "      <th>Total Assets</th>\n",
       "      <th>Current liabilities</th>\n",
       "      <th>Total liabilities</th>\n",
       "      <th>Invested Capital</th>\n",
       "      <th>...</th>\n",
       "      <th>operating cash</th>\n",
       "      <th>Net Cash</th>\n",
       "      <th>capex</th>\n",
       "      <th>dividends</th>\n",
       "      <th>Book Values</th>\n",
       "      <th>Payout per share (pence)</th>\n",
       "      <th>roic</th>\n",
       "      <th>roa</th>\n",
       "      <th>roe</th>\n",
       "      <th>net_margin</th>\n",
       "    </tr>\n",
       "    <tr>\n",
       "      <th>Year</th>\n",
       "      <th></th>\n",
       "      <th></th>\n",
       "      <th></th>\n",
       "      <th></th>\n",
       "      <th></th>\n",
       "      <th></th>\n",
       "      <th></th>\n",
       "      <th></th>\n",
       "      <th></th>\n",
       "      <th></th>\n",
       "      <th></th>\n",
       "      <th></th>\n",
       "      <th></th>\n",
       "      <th></th>\n",
       "      <th></th>\n",
       "      <th></th>\n",
       "      <th></th>\n",
       "      <th></th>\n",
       "      <th></th>\n",
       "      <th></th>\n",
       "      <th></th>\n",
       "    </tr>\n",
       "  </thead>\n",
       "  <tbody>\n",
       "    <tr>\n",
       "      <th>2019-01-01</th>\n",
       "      <td>150236.0</td>\n",
       "      <td>32107.0</td>\n",
       "      <td>15197.0</td>\n",
       "      <td>15325.0</td>\n",
       "      <td>12285.0</td>\n",
       "      <td>11010.0</td>\n",
       "      <td>163934.0</td>\n",
       "      <td>24222.0</td>\n",
       "      <td>29545.0</td>\n",
       "      <td>163934.0</td>\n",
       "      <td>...</td>\n",
       "      <td>18236.0</td>\n",
       "      <td>15637.0</td>\n",
       "      <td>5300.0</td>\n",
       "      <td>6327.0</td>\n",
       "      <td>71438.0</td>\n",
       "      <td>14.78</td>\n",
       "      <td>6.716117</td>\n",
       "      <td>7.493869</td>\n",
       "      <td>9.141373</td>\n",
       "      <td>7.328470</td>\n",
       "    </tr>\n",
       "    <tr>\n",
       "      <th>2018-01-01</th>\n",
       "      <td>133276.0</td>\n",
       "      <td>29602.0</td>\n",
       "      <td>11944.0</td>\n",
       "      <td>12077.0</td>\n",
       "      <td>9689.0</td>\n",
       "      <td>9798.0</td>\n",
       "      <td>155367.0</td>\n",
       "      <td>22242.0</td>\n",
       "      <td>27225.0</td>\n",
       "      <td>155367.0</td>\n",
       "      <td>...</td>\n",
       "      <td>17417.0</td>\n",
       "      <td>14338.0</td>\n",
       "      <td>11200.0</td>\n",
       "      <td>6095.0</td>\n",
       "      <td>75448.0</td>\n",
       "      <td>14.50</td>\n",
       "      <td>6.306358</td>\n",
       "      <td>6.236202</td>\n",
       "      <td>7.561143</td>\n",
       "      <td>7.351661</td>\n",
       "    </tr>\n",
       "    <tr>\n",
       "      <th>2017-01-01</th>\n",
       "      <td>118822.0</td>\n",
       "      <td>30188.0</td>\n",
       "      <td>15678.0</td>\n",
       "      <td>15915.0</td>\n",
       "      <td>13004.0</td>\n",
       "      <td>13282.0</td>\n",
       "      <td>149919.0</td>\n",
       "      <td>21721.0</td>\n",
       "      <td>25775.0</td>\n",
       "      <td>149919.0</td>\n",
       "      <td>...</td>\n",
       "      <td>21531.0</td>\n",
       "      <td>18325.0</td>\n",
       "      <td>14200.0</td>\n",
       "      <td>19072.0</td>\n",
       "      <td>72762.0</td>\n",
       "      <td>13.97</td>\n",
       "      <td>8.859451</td>\n",
       "      <td>8.674017</td>\n",
       "      <td>10.474932</td>\n",
       "      <td>11.178065</td>\n",
       "    </tr>\n",
       "    <tr>\n",
       "      <th>2016-01-01</th>\n",
       "      <td>132448.0</td>\n",
       "      <td>34017.0</td>\n",
       "      <td>19490.0</td>\n",
       "      <td>19676.0</td>\n",
       "      <td>16187.0</td>\n",
       "      <td>16477.0</td>\n",
       "      <td>153109.0</td>\n",
       "      <td>18789.0</td>\n",
       "      <td>23176.0</td>\n",
       "      <td>153109.0</td>\n",
       "      <td>...</td>\n",
       "      <td>27773.0</td>\n",
       "      <td>24736.0</td>\n",
       "      <td>7200.0</td>\n",
       "      <td>5873.0</td>\n",
       "      <td>66948.0</td>\n",
       "      <td>13.71</td>\n",
       "      <td>10.761614</td>\n",
       "      <td>10.572207</td>\n",
       "      <td>12.457959</td>\n",
       "      <td>12.440354</td>\n",
       "    </tr>\n",
       "    <tr>\n",
       "      <th>2015-01-01</th>\n",
       "      <td>131270.0</td>\n",
       "      <td>32118.0</td>\n",
       "      <td>17410.0</td>\n",
       "      <td>17547.0</td>\n",
       "      <td>13875.0</td>\n",
       "      <td>14114.0</td>\n",
       "      <td>144055.0</td>\n",
       "      <td>19938.0</td>\n",
       "      <td>24726.0</td>\n",
       "      <td>144055.0</td>\n",
       "      <td>...</td>\n",
       "      <td>20359.0</td>\n",
       "      <td>16051.0</td>\n",
       "      <td>8200.0</td>\n",
       "      <td>5694.0</td>\n",
       "      <td>66572.0</td>\n",
       "      <td>13.30</td>\n",
       "      <td>9.797647</td>\n",
       "      <td>9.631738</td>\n",
       "      <td>11.627517</td>\n",
       "      <td>10.751885</td>\n",
       "    </tr>\n",
       "    <tr>\n",
       "      <th>2014-01-01</th>\n",
       "      <td>137466.0</td>\n",
       "      <td>36042.0</td>\n",
       "      <td>21649.0</td>\n",
       "      <td>21833.0</td>\n",
       "      <td>17258.0</td>\n",
       "      <td>14261.0</td>\n",
       "      <td>138871.0</td>\n",
       "      <td>23691.0</td>\n",
       "      <td>27962.0</td>\n",
       "      <td>138871.0</td>\n",
       "      <td>...</td>\n",
       "      <td>23901.0</td>\n",
       "      <td>19213.0</td>\n",
       "      <td>9700.0</td>\n",
       "      <td>5450.0</td>\n",
       "      <td>65195.0</td>\n",
       "      <td>12.96</td>\n",
       "      <td>10.269243</td>\n",
       "      <td>12.427361</td>\n",
       "      <td>15.560505</td>\n",
       "      <td>10.374202</td>\n",
       "    </tr>\n",
       "    <tr>\n",
       "      <th>2013-01-01</th>\n",
       "      <td>122215.0</td>\n",
       "      <td>31736.0</td>\n",
       "      <td>18851.0</td>\n",
       "      <td>19157.0</td>\n",
       "      <td>14786.0</td>\n",
       "      <td>14651.0</td>\n",
       "      <td>129792.0</td>\n",
       "      <td>22636.0</td>\n",
       "      <td>27694.0</td>\n",
       "      <td>129792.0</td>\n",
       "      <td>...</td>\n",
       "      <td>22466.0</td>\n",
       "      <td>17826.0</td>\n",
       "      <td>6900.0</td>\n",
       "      <td>5157.0</td>\n",
       "      <td>61676.0</td>\n",
       "      <td>12.34</td>\n",
       "      <td>11.288061</td>\n",
       "      <td>11.392073</td>\n",
       "      <td>14.482164</td>\n",
       "      <td>11.987890</td>\n",
       "    </tr>\n",
       "    <tr>\n",
       "      <th>2012-01-01</th>\n",
       "      <td>126271.0</td>\n",
       "      <td>33613.0</td>\n",
       "      <td>22937.0</td>\n",
       "      <td>23093.0</td>\n",
       "      <td>17591.0</td>\n",
       "      <td>17267.0</td>\n",
       "      <td>120027.0</td>\n",
       "      <td>21846.0</td>\n",
       "      <td>27423.0</td>\n",
       "      <td>120027.0</td>\n",
       "      <td>...</td>\n",
       "      <td>25453.0</td>\n",
       "      <td>21448.0</td>\n",
       "      <td>12600.0</td>\n",
       "      <td>4778.0</td>\n",
       "      <td>62226.0</td>\n",
       "      <td>11.75</td>\n",
       "      <td>14.385930</td>\n",
       "      <td>14.655869</td>\n",
       "      <td>18.995940</td>\n",
       "      <td>13.674557</td>\n",
       "    </tr>\n",
       "    <tr>\n",
       "      <th>2011-01-01</th>\n",
       "      <td>105368.0</td>\n",
       "      <td>27842.0</td>\n",
       "      <td>15343.0</td>\n",
       "      <td>15501.0</td>\n",
       "      <td>11652.0</td>\n",
       "      <td>11243.0</td>\n",
       "      <td>112421.0</td>\n",
       "      <td>26659.0</td>\n",
       "      <td>32306.0</td>\n",
       "      <td>112421.0</td>\n",
       "      <td>...</td>\n",
       "      <td>15191.0</td>\n",
       "      <td>13707.0</td>\n",
       "      <td>9860.0</td>\n",
       "      <td>4363.0</td>\n",
       "      <td>55889.0</td>\n",
       "      <td>10.75</td>\n",
       "      <td>10.000801</td>\n",
       "      <td>10.364612</td>\n",
       "      <td>14.544093</td>\n",
       "      <td>10.670222</td>\n",
       "    </tr>\n",
       "    <tr>\n",
       "      <th>2010-01-01</th>\n",
       "      <td>60649.0</td>\n",
       "      <td>15126.0</td>\n",
       "      <td>9665.0</td>\n",
       "      <td>9804.0</td>\n",
       "      <td>7638.0</td>\n",
       "      <td>3921.0</td>\n",
       "      <td>93761.0</td>\n",
       "      <td>14671.0</td>\n",
       "      <td>20526.0</td>\n",
       "      <td>93761.0</td>\n",
       "      <td>...</td>\n",
       "      <td>6443.0</td>\n",
       "      <td>14718.0</td>\n",
       "      <td>2653.0</td>\n",
       "      <td>4363.0</td>\n",
       "      <td>51596.0</td>\n",
       "      <td>10.00</td>\n",
       "      <td>4.181909</td>\n",
       "      <td>8.146244</td>\n",
       "      <td>10.429439</td>\n",
       "      <td>6.465069</td>\n",
       "    </tr>\n",
       "    <tr>\n",
       "      <th>2009-01-01</th>\n",
       "      <td>84812.0</td>\n",
       "      <td>17891.0</td>\n",
       "      <td>1932.0</td>\n",
       "      <td>3616.0</td>\n",
       "      <td>622.0</td>\n",
       "      <td>183.0</td>\n",
       "      <td>90896.0</td>\n",
       "      <td>12918.0</td>\n",
       "      <td>17219.0</td>\n",
       "      <td>90896.0</td>\n",
       "      <td>...</td>\n",
       "      <td>9201.0</td>\n",
       "      <td>8360.0</td>\n",
       "      <td>19687.0</td>\n",
       "      <td>4363.0</td>\n",
       "      <td>53408.0</td>\n",
       "      <td>10.00</td>\n",
       "      <td>0.201329</td>\n",
       "      <td>0.684299</td>\n",
       "      <td>0.844225</td>\n",
       "      <td>0.215771</td>\n",
       "    </tr>\n",
       "  </tbody>\n",
       "</table>\n",
       "<p>11 rows × 21 columns</p>\n",
       "</div>"
      ],
      "text/plain": [
       "             Revenue  Gross Profit  Profit From Operations(EBITDA)  \\\n",
       "Year                                                                 \n",
       "2019-01-01  150236.0       32107.0                         15197.0   \n",
       "2018-01-01  133276.0       29602.0                         11944.0   \n",
       "2017-01-01  118822.0       30188.0                         15678.0   \n",
       "2016-01-01  132448.0       34017.0                         19490.0   \n",
       "2015-01-01  131270.0       32118.0                         17410.0   \n",
       "2014-01-01  137466.0       36042.0                         21649.0   \n",
       "2013-01-01  122215.0       31736.0                         18851.0   \n",
       "2012-01-01  126271.0       33613.0                         22937.0   \n",
       "2011-01-01  105368.0       27842.0                         15343.0   \n",
       "2010-01-01   60649.0       15126.0                          9665.0   \n",
       "2009-01-01   84812.0       17891.0                          1932.0   \n",
       "\n",
       "             Profit before income tax(EBIT)  Profit for the year(Net profit)  \\\n",
       "Year                                                                           \n",
       "2019-01-01                          15325.0                          12285.0   \n",
       "2018-01-01                          12077.0                           9689.0   \n",
       "2017-01-01                          15915.0                          13004.0   \n",
       "2016-01-01                          19676.0                          16187.0   \n",
       "2015-01-01                          17547.0                          13875.0   \n",
       "2014-01-01                          21833.0                          17258.0   \n",
       "2013-01-01                          19157.0                          14786.0   \n",
       "2012-01-01                          23093.0                          17591.0   \n",
       "2011-01-01                          15501.0                          11652.0   \n",
       "2010-01-01                           9804.0                           7638.0   \n",
       "2009-01-01                           3616.0                            622.0   \n",
       "\n",
       "            Total Comprehensive Income(nopat)  Total Assets  \\\n",
       "Year                                                          \n",
       "2019-01-01                            11010.0      163934.0   \n",
       "2018-01-01                             9798.0      155367.0   \n",
       "2017-01-01                            13282.0      149919.0   \n",
       "2016-01-01                            16477.0      153109.0   \n",
       "2015-01-01                            14114.0      144055.0   \n",
       "2014-01-01                            14261.0      138871.0   \n",
       "2013-01-01                            14651.0      129792.0   \n",
       "2012-01-01                            17267.0      120027.0   \n",
       "2011-01-01                            11243.0      112421.0   \n",
       "2010-01-01                             3921.0       93761.0   \n",
       "2009-01-01                              183.0       90896.0   \n",
       "\n",
       "            Current liabilities  Total liabilities  Invested Capital  \\\n",
       "Year                                                                   \n",
       "2019-01-01              24222.0            29545.0          163934.0   \n",
       "2018-01-01              22242.0            27225.0          155367.0   \n",
       "2017-01-01              21721.0            25775.0          149919.0   \n",
       "2016-01-01              18789.0            23176.0          153109.0   \n",
       "2015-01-01              19938.0            24726.0          144055.0   \n",
       "2014-01-01              23691.0            27962.0          138871.0   \n",
       "2013-01-01              22636.0            27694.0          129792.0   \n",
       "2012-01-01              21846.0            27423.0          120027.0   \n",
       "2011-01-01              26659.0            32306.0          112421.0   \n",
       "2010-01-01              14671.0            20526.0           93761.0   \n",
       "2009-01-01              12918.0            17219.0           90896.0   \n",
       "\n",
       "               ...      operating cash   Net Cash    capex  dividends  \\\n",
       "Year           ...                                                      \n",
       "2019-01-01     ...              18236.0   15637.0   5300.0     6327.0   \n",
       "2018-01-01     ...              17417.0   14338.0  11200.0     6095.0   \n",
       "2017-01-01     ...              21531.0   18325.0  14200.0    19072.0   \n",
       "2016-01-01     ...              27773.0   24736.0   7200.0     5873.0   \n",
       "2015-01-01     ...              20359.0   16051.0   8200.0     5694.0   \n",
       "2014-01-01     ...              23901.0   19213.0   9700.0     5450.0   \n",
       "2013-01-01     ...              22466.0   17826.0   6900.0     5157.0   \n",
       "2012-01-01     ...              25453.0   21448.0  12600.0     4778.0   \n",
       "2011-01-01     ...              15191.0   13707.0   9860.0     4363.0   \n",
       "2010-01-01     ...               6443.0   14718.0   2653.0     4363.0   \n",
       "2009-01-01     ...               9201.0    8360.0  19687.0     4363.0   \n",
       "\n",
       "            Book Values   Payout per share (pence)       roic        roa  \\\n",
       "Year                                                                       \n",
       "2019-01-01       71438.0                     14.78   6.716117   7.493869   \n",
       "2018-01-01       75448.0                     14.50   6.306358   6.236202   \n",
       "2017-01-01       72762.0                     13.97   8.859451   8.674017   \n",
       "2016-01-01       66948.0                     13.71  10.761614  10.572207   \n",
       "2015-01-01       66572.0                     13.30   9.797647   9.631738   \n",
       "2014-01-01       65195.0                     12.96  10.269243  12.427361   \n",
       "2013-01-01       61676.0                     12.34  11.288061  11.392073   \n",
       "2012-01-01       62226.0                     11.75  14.385930  14.655869   \n",
       "2011-01-01       55889.0                     10.75  10.000801  10.364612   \n",
       "2010-01-01       51596.0                     10.00   4.181909   8.146244   \n",
       "2009-01-01       53408.0                     10.00   0.201329   0.684299   \n",
       "\n",
       "                  roe  net_margin  \n",
       "Year                               \n",
       "2019-01-01   9.141373    7.328470  \n",
       "2018-01-01   7.561143    7.351661  \n",
       "2017-01-01  10.474932   11.178065  \n",
       "2016-01-01  12.457959   12.440354  \n",
       "2015-01-01  11.627517   10.751885  \n",
       "2014-01-01  15.560505   10.374202  \n",
       "2013-01-01  14.482164   11.987890  \n",
       "2012-01-01  18.995940   13.674557  \n",
       "2011-01-01  14.544093   10.670222  \n",
       "2010-01-01  10.429439    6.465069  \n",
       "2009-01-01   0.844225    0.215771  \n",
       "\n",
       "[11 rows x 21 columns]"
      ]
     },
     "execution_count": 25,
     "metadata": {},
     "output_type": "execute_result"
    }
   ],
   "source": [
    "df.head(11)"
   ]
  },
  {
   "cell_type": "code",
   "execution_count": 12,
   "metadata": {},
   "outputs": [
    {
     "name": "stdout",
     "output_type": "stream",
     "text": [
      "<class 'pandas.core.frame.DataFrame'>\n",
      "DatetimeIndex: 11 entries, 2019-01-01 to 2009-01-01\n",
      "Data columns (total 17 columns):\n",
      "Revenue                              11 non-null int64\n",
      "Gross Profit                         11 non-null int64\n",
      "Profit From Operations(EBITDA)       11 non-null int64\n",
      " Profit before income tax(EBIT)      11 non-null int64\n",
      "Profit for the year(Net profit)      11 non-null int64\n",
      "Total Comprehensive Income(nopat)    11 non-null int64\n",
      "Total Assets                         11 non-null int64\n",
      "Current liabilities                  11 non-null int64\n",
      "Total liabilities                    11 non-null int64\n",
      "Invested Capital                     11 non-null int64\n",
      "Shareholders Equity                  11 non-null int64\n",
      "operating cash                       11 non-null int64\n",
      "Net Cash                             11 non-null int64\n",
      "capex                                11 non-null int64\n",
      "dividends                            11 non-null int64\n",
      "Book Values                          11 non-null int64\n",
      "Payout per share (pence)             11 non-null float64\n",
      "dtypes: float64(1), int64(16)\n",
      "memory usage: 1.5 KB\n"
     ]
    }
   ],
   "source": [
    "df.info()"
   ]
  },
  {
   "cell_type": "code",
   "execution_count": 13,
   "metadata": {},
   "outputs": [
    {
     "data": {
      "text/plain": [
       "Index(['Revenue', 'Gross Profit', 'Profit From Operations(EBITDA)',\n",
       "       ' Profit before income tax(EBIT)', 'Profit for the year(Net profit)',\n",
       "       'Total Comprehensive Income(nopat)', 'Total Assets',\n",
       "       'Current liabilities', 'Total liabilities', 'Invested Capital',\n",
       "       'Shareholders Equity', 'operating cash ', 'Net Cash', 'capex',\n",
       "       'dividends', 'Book Values ', 'Payout per share (pence)'],\n",
       "      dtype='object')"
      ]
     },
     "execution_count": 13,
     "metadata": {},
     "output_type": "execute_result"
    }
   ],
   "source": [
    "df.columns"
   ]
  },
  {
   "cell_type": "code",
   "execution_count": 14,
   "metadata": {},
   "outputs": [],
   "source": [
    "#convert intergers to floats\n",
    "for column in df:\n",
    "    df[column] = df[column].astype(float)\n"
   ]
  },
  {
   "cell_type": "code",
   "execution_count": 15,
   "metadata": {},
   "outputs": [
    {
     "data": {
      "image/png": "[encoded data removed]",
      "text/plain": [
       "<Figure size 432x288 with 1 Axes>"
      ]
     },
     "metadata": {},
     "output_type": "display_data"
    }
   ],
   "source": [
    "# Visualize some of datapoints\n",
    "plt.plot(df['Gross Profit'])\n",
    "plt.title('Castings Gross Profit')\n",
    "plt.show()"
   ]
  },
  {
   "cell_type": "code",
   "execution_count": 16,
   "metadata": {},
   "outputs": [
    {
     "data": {
      "image/png": "[encoded data removed]",
      "text/plain": [
       "<Figure size 432x288 with 1 Axes>"
      ]
     },
     "metadata": {},
     "output_type": "display_data"
    }
   ],
   "source": [
    "\n",
    "plt.plot(df['Total Assets'])\n",
    "plt.title('Castings Total Assets')\n",
    "plt.show()"
   ]
  },
  {
   "cell_type": "code",
   "execution_count": 17,
   "metadata": {},
   "outputs": [],
   "source": [
    "#Calculate return on invested capital\n",
    "df['roic']=roic(df['Total Comprehensive Income(nopat)'],df['Invested Capital'])\n"
   ]
  },
  {
   "cell_type": "code",
   "execution_count": 18,
   "metadata": {},
   "outputs": [
    {
     "data": {
      "text/plain": [
       "Year\n",
       "2019-01-01     6.716117\n",
       "2018-01-01     6.306358\n",
       "2017-01-01     8.859451\n",
       "2016-01-01    10.761614\n",
       "2015-01-01     9.797647\n",
       "2014-01-01    10.269243\n",
       "2013-01-01    11.288061\n",
       "2012-01-01    14.385930\n",
       "2011-01-01    10.000801\n",
       "2010-01-01     4.181909\n",
       "2009-01-01     0.201329\n",
       "Name: roic, dtype: float64"
      ]
     },
     "execution_count": 18,
     "metadata": {},
     "output_type": "execute_result"
    }
   ],
   "source": [
    "df.roic"
   ]
  },
  {
   "cell_type": "code",
   "execution_count": 19,
   "metadata": {},
   "outputs": [
    {
     "data": {
      "text/plain": [
       "Text(0.5,1,'Return on Invested Capital ')"
      ]
     },
     "execution_count": 19,
     "metadata": {},
     "output_type": "execute_result"
    },
    {
     "data": {
      "image/png": "[encoded data removed]",
      "text/plain": [
       "<Figure size 432x288 with 1 Axes>"
      ]
     },
     "metadata": {},
     "output_type": "display_data"
    }
   ],
   "source": [
    "df.roic.plot()\n",
    "\n",
    "plt.title('Return on Invested Capital ')"
   ]
  },
  {
   "cell_type": "code",
   "execution_count": 20,
   "metadata": {},
   "outputs": [
    {
     "data": {
      "text/plain": [
       "Year\n",
       "2019-01-01     7.493869\n",
       "2018-01-01     6.236202\n",
       "2017-01-01     8.674017\n",
       "2016-01-01    10.572207\n",
       "2015-01-01     9.631738\n",
       "2014-01-01    12.427361\n",
       "2013-01-01    11.392073\n",
       "2012-01-01    14.655869\n",
       "2011-01-01    10.364612\n",
       "2010-01-01     8.146244\n",
       "2009-01-01     0.684299\n",
       "Name: roa, dtype: float64"
      ]
     },
     "execution_count": 20,
     "metadata": {},
     "output_type": "execute_result"
    }
   ],
   "source": [
    "# Calculate Return on assets\n",
    "df['roa']=roa(df['Profit for the year(Net profit)'],df['Total Assets'])\n",
    "df.roa"
   ]
  },
  {
   "cell_type": "code",
   "execution_count": 21,
   "metadata": {},
   "outputs": [
    {
     "data": {
      "text/plain": [
       "<matplotlib.axes._subplots.AxesSubplot at 0x11e810b00>"
      ]
     },
     "execution_count": 21,
     "metadata": {},
     "output_type": "execute_result"
    },
    {
     "data": {
      "image/png": "[encoded data removed]",
      "text/plain": [
       "<Figure size 432x288 with 1 Axes>"
      ]
     },
     "metadata": {},
     "output_type": "display_data"
    }
   ],
   "source": [
    "df.roa.plot()"
   ]
  },
  {
   "cell_type": "code",
   "execution_count": 22,
   "metadata": {},
   "outputs": [
    {
     "data": {
      "text/plain": [
       "Year\n",
       "2019-01-01     9.141373\n",
       "2018-01-01     7.561143\n",
       "2017-01-01    10.474932\n",
       "2016-01-01    12.457959\n",
       "2015-01-01    11.627517\n",
       "2014-01-01    15.560505\n",
       "2013-01-01    14.482164\n",
       "2012-01-01    18.995940\n",
       "2011-01-01    14.544093\n",
       "2010-01-01    10.429439\n",
       "2009-01-01     0.844225\n",
       "Name: roe, dtype: float64"
      ]
     },
     "execution_count": 22,
     "metadata": {},
     "output_type": "execute_result"
    }
   ],
   "source": [
    "# Calculate Return on Equity\n",
    "df['roe']=roe(df['Profit for the year(Net profit)'],df['Shareholders Equity'])\n",
    "df.roe"
   ]
  },
  {
   "cell_type": "code",
   "execution_count": 23,
   "metadata": {},
   "outputs": [
    {
     "data": {
      "text/plain": [
       "<matplotlib.axes._subplots.AxesSubplot at 0x11e7ca6a0>"
      ]
     },
     "execution_count": 23,
     "metadata": {},
     "output_type": "execute_result"
    },
    {
     "data": {
      "image/png": "[encoded data removed]",
      "text/plain": [
       "<Figure size 432x288 with 1 Axes>"
      ]
     },
     "metadata": {},
     "output_type": "display_data"
    }
   ],
   "source": [
    "df.roe.plot()"
   ]
  },
  {
   "cell_type": "code",
   "execution_count": 24,
   "metadata": {},
   "outputs": [
    {
     "name": "stdout",
     "output_type": "stream",
     "text": [
      "Year\n",
      "2019-01-01     7.328470\n",
      "2018-01-01     7.351661\n",
      "2017-01-01    11.178065\n",
      "2016-01-01    12.440354\n",
      "2015-01-01    10.751885\n",
      "2014-01-01    10.374202\n",
      "2013-01-01    11.987890\n",
      "2012-01-01    13.674557\n",
      "2011-01-01    10.670222\n",
      "2010-01-01     6.465069\n",
      "2009-01-01     0.215771\n",
      "Name: net_margin, dtype: float64\n"
     ]
    },
    {
     "data": {
      "text/plain": [
       "<matplotlib.axes._subplots.AxesSubplot at 0x126f1ba90>"
      ]
     },
     "execution_count": 24,
     "metadata": {},
     "output_type": "execute_result"
    },
    {
     "data": {
      "image/png": "[encoded data removed]",
      "text/plain": [
       "<Figure size 432x288 with 1 Axes>"
      ]
     },
     "metadata": {},
     "output_type": "display_data"
    }
   ],
   "source": [
    "# Calculate Net Margin\n",
    "df['net_margin']=net_margin(df['Total Comprehensive Income(nopat)'],df['Revenue'])\n",
    "print(df.net_margin)\n",
    "df.net_margin.plot()\n"
   ]
  },
  {
   "cell_type": "code",
   "execution_count": 401,
   "metadata": {},
   "outputs": [
    {
     "name": "stdout",
     "output_type": "stream",
     "text": [
      "Year\n",
      "2019-01-01    21.371043\n",
      "2018-01-01    22.211051\n",
      "2017-01-01    25.406070\n",
      "2016-01-01    25.683287\n",
      "2015-01-01    24.467129\n",
      "2014-01-01    26.218847\n",
      "2013-01-01    25.967353\n",
      "2012-01-01    26.619731\n",
      "2011-01-01    26.423582\n",
      "2010-01-01    24.940230\n",
      "2009-01-01    21.094892\n",
      "Name: gross_margin, dtype: float64\n"
     ]
    },
    {
     "data": {
      "text/plain": [
       "<matplotlib.axes._subplots.AxesSubplot at 0x1250fa320>"
      ]
     },
     "execution_count": 401,
     "metadata": {},
     "output_type": "execute_result"
    },
    {
     "data": {
      "image/png": "[encoded data removed]",
      "text/plain": [
       "<Figure size 432x288 with 1 Axes>"
      ]
     },
     "metadata": {},
     "output_type": "display_data"
    }
   ],
   "source": [
    "# Calculate Gross Margin\n",
    "df['gross_margin']=gross_margin(df['Gross Profit'],df['Revenue'])\n",
    "print(df.gross_margin)\n",
    "df.gross_margin.plot()"
   ]
  },
  {
   "cell_type": "code",
   "execution_count": 402,
   "metadata": {},
   "outputs": [
    {
     "data": {
      "text/plain": [
       "Year\n",
       "2019-01-01    150236.0\n",
       "2018-01-01    133276.0\n",
       "2017-01-01    118822.0\n",
       "2016-01-01    132448.0\n",
       "2015-01-01    131270.0\n",
       "2014-01-01    137466.0\n",
       "2013-01-01    122215.0\n",
       "2012-01-01    126271.0\n",
       "2011-01-01    105368.0\n",
       "2010-01-01     60649.0\n",
       "2009-01-01     84812.0\n",
       "Name: Revenue, dtype: float64"
      ]
     },
     "execution_count": 402,
     "metadata": {},
     "output_type": "execute_result"
    }
   ],
   "source": [
    "df.Revenue"
   ]
  },
  {
   "cell_type": "code",
   "execution_count": 403,
   "metadata": {},
   "outputs": [
    {
     "name": "stdout",
     "output_type": "stream",
     "text": [
      "Year\n",
      "2019-01-01    12.725472\n",
      "2018-01-01    12.164414\n",
      "2017-01-01   -10.287811\n",
      "2016-01-01     0.897387\n",
      "2015-01-01    -4.507296\n",
      "2014-01-01    12.478828\n",
      "2013-01-01    -3.212139\n",
      "2012-01-01    19.838091\n",
      "2011-01-01    73.734109\n",
      "2010-01-01   -28.490072\n",
      "2009-01-01          NaN\n",
      "Name: sales_growth, dtype: float64\n"
     ]
    },
    {
     "data": {
      "text/plain": [
       "<matplotlib.axes._subplots.AxesSubplot at 0x125220400>"
      ]
     },
     "execution_count": 403,
     "metadata": {},
     "output_type": "execute_result"
    },
    {
     "data": {
      "image/png": "[encoded data removed]",
      "text/plain": [
       "<Figure size 432x288 with 1 Axes>"
      ]
     },
     "metadata": {},
     "output_type": "display_data"
    }
   ],
   "source": [
    "# Calculate Sales Growth, through percentage change with previous year \n",
    "df['sales_growth']=(df['Revenue'].pct_change(-1))*100\n",
    "print(df.sales_growth)\n",
    "df.sales_growth.plot()"
   ]
  },
  {
   "cell_type": "code",
   "execution_count": 405,
   "metadata": {},
   "outputs": [
    {
     "name": "stdout",
     "output_type": "stream",
     "text": [
      "Year\n",
      "2019-01-01    13908.0\n",
      "2018-01-01    12887.0\n",
      "2017-01-01     7450.0\n",
      "2016-01-01    -1560.0\n",
      "2015-01-01     8675.0\n",
      "2014-01-01     8749.0\n",
      "2013-01-01     9868.0\n",
      "2012-01-01     5975.0\n",
      "2011-01-01    18599.0\n",
      "2010-01-01     5808.0\n",
      "2009-01-01     8859.0\n",
      "Name: net_debt, dtype: float64\n"
     ]
    },
    {
     "data": {
      "text/plain": [
       "<matplotlib.axes._subplots.AxesSubplot at 0x12525e4e0>"
      ]
     },
     "execution_count": 405,
     "metadata": {},
     "output_type": "execute_result"
    },
    {
     "data": {
      "image/png": "[encoded data removed]",
      "text/plain": [
       "<Figure size 432x288 with 1 Axes>"
      ]
     },
     "metadata": {},
     "output_type": "display_data"
    }
   ],
   "source": [
    "# Net Debt calculated through adding liabilites and subtracting cash\n",
    "df['net_debt']= df['Total liabilities']-df['Net Cash']\n",
    "print(df.net_debt)\n",
    "df.net_debt.plot()"
   ]
  },
  {
   "cell_type": "code",
   "execution_count": 407,
   "metadata": {},
   "outputs": [
    {
     "data": {
      "text/plain": [
       "Year\n",
       "2019-01-01    10337.0\n",
       "2018-01-01     3138.0\n",
       "2017-01-01     4125.0\n",
       "2016-01-01    17536.0\n",
       "2015-01-01     7851.0\n",
       "2014-01-01     9513.0\n",
       "2013-01-01    10926.0\n",
       "2012-01-01     8848.0\n",
       "2011-01-01     3847.0\n",
       "2010-01-01    12065.0\n",
       "2009-01-01   -11327.0\n",
       "Name: FCFF, dtype: float64"
      ]
     },
     "execution_count": 407,
     "metadata": {},
     "output_type": "execute_result"
    }
   ],
   "source": [
    "#Free Cash flow = Net cash flow - capital expenditure\n",
    "df['FCFF']= df['Net Cash']-df['capex']\n",
    "df.FCFF.dropna()"
   ]
  },
  {
   "cell_type": "code",
   "execution_count": 408,
   "metadata": {
    "scrolled": true
   },
   "outputs": [
    {
     "data": {
      "text/plain": [
       "<matplotlib.axes._subplots.AxesSubplot at 0x1254e0f98>"
      ]
     },
     "execution_count": 408,
     "metadata": {},
     "output_type": "execute_result"
    },
    {
     "data": {
      "image/png": "[encoded data removed]",
      "text/plain": [
       "<Figure size 432x288 with 1 Axes>"
      ]
     },
     "metadata": {},
     "output_type": "display_data"
    }
   ],
   "source": [
    "df.FCFF.plot()"
   ]
  },
  {
   "cell_type": "code",
   "execution_count": 416,
   "metadata": {},
   "outputs": [
    {
     "name": "stdout",
     "output_type": "stream",
     "text": [
      "<function roce at 0x1233338c8>\n"
     ]
    },
    {
     "data": {
      "text/plain": [
       "Text(0.5,1,'ROCE')"
      ]
     },
     "execution_count": 416,
     "metadata": {},
     "output_type": "execute_result"
    },
    {
     "data": {
      "image/png": "[encoded data removed]",
      "text/plain": [
       "<Figure size 432x288 with 1 Axes>"
      ]
     },
     "metadata": {},
     "output_type": "display_data"
    }
   ],
   "source": [
    "# Return on Capital Employed\n",
    "df['roce']= roa(df[' Profit before income tax(EBIT)'],(df['Total Assets']+ df['Total liabilities']))\n",
    "print(roce)\n",
    "df.roce.plot()\n",
    "plt.title('ROCE')"
   ]
  },
  {
   "cell_type": "code",
   "execution_count": 26,
   "metadata": {},
   "outputs": [
    {
     "data": {
      "text/plain": [
       "Text(0.5,1,'Fixed Assets Book Value')"
      ]
     },
     "execution_count": 26,
     "metadata": {},
     "output_type": "execute_result"
    },
    {
     "data": {
      "image/png": "[encoded data removed]",
      "text/plain": [
       "<Figure size 432x288 with 1 Axes>"
      ]
     },
     "metadata": {},
     "output_type": "display_data"
    }
   ],
   "source": [
    "# Net Book value overtime\n",
    "df['Book Values '].plot()\n",
    "plt.title('Fixed Assets Book Value')"
   ]
  },
  {
   "cell_type": "code",
   "execution_count": 418,
   "metadata": {},
   "outputs": [
    {
     "data": {
      "text/plain": [
       "Text(0.5,1,'Cash Returned to Shareholders')"
      ]
     },
     "execution_count": 418,
     "metadata": {},
     "output_type": "execute_result"
    },
    {
     "data": {
      "image/png": "[encoded data removed]",
      "text/plain": [
       "<Figure size 432x288 with 1 Axes>"
      ]
     },
     "metadata": {},
     "output_type": "display_data"
    }
   ],
   "source": [
    "#payout per share\n",
    "df['Payout per share (pence)'].plot()\n",
    "plt.title('Cash Returned to Shareholders')"
   ]
  }
 ],
 "metadata": {
  "kernelspec": {
   "display_name": "Python 3",
   "language": "python",
   "name": "python3"
  },
  "language_info": {
   "codemirror_mode": {
    "name": "ipython",
    "version": 3
   },
   "file_extension": ".py",
   "mimetype": "text/x-python",
   "name": "python",
   "nbconvert_exporter": "python",
   "pygments_lexer": "ipython3",
   "version": "3.6.5"
  }
 },
 "nbformat": 4,
 "nbformat_minor": 2
}
